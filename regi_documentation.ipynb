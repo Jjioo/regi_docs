{
  "nbformat": 4,
  "nbformat_minor": 0,
  "metadata": {
    "colab": {
      "provenance": []
    },
    "kernelspec": {
      "name": "python3",
      "display_name": "Python 3"
    },
    "language_info": {
      "name": "python"
    }
  },
  "cells": [
    {
      "cell_type": "markdown",
      "source": [
        "**simple linear regression model**"
      ],
      "metadata": {
        "id": "JexZqG4Y2Eox"
      }
    },
    {
      "cell_type": "code",
      "execution_count": 5,
      "metadata": {
        "colab": {
          "base_uri": "https://localhost:8080/"
        },
        "id": "Mb4ovmQC2CwY",
        "outputId": "f21329ba-2f93-46a5-e2ea-46532dfb1dd8"
      },
      "outputs": [
        {
          "output_type": "stream",
          "name": "stdout",
          "text": [
            "slope: [2.93693502]\n",
            "y-intercept: [2.22215108]\n",
            "predicted value for x = 6: [19.84376121]\n"
          ]
        }
      ],
      "source": [
        "import numpy as np\n",
        "\n",
        "# define a function to calculate the slope and y-intercept of the line\n",
        "def linear_regression(x, y):\n",
        "    n = len(x)\n",
        "    x_mean = np.mean(x)\n",
        "    y_mean = np.mean(y)\n",
        "    \n",
        "    numerator = 0\n",
        "    denominator = 0\n",
        "    \n",
        "    for i in range(n):\n",
        "        numerator += (x[i] - x_mean) * (y[i] - y_mean)\n",
        "        denominator += (x[i] - x_mean) ** 2\n",
        "        \n",
        "    slope = numerator / denominator\n",
        "    y_intercept = y_mean - slope * x_mean\n",
        "    \n",
        "    return slope, y_intercept\n",
        "\n",
        "# define a function to make predictions using the calculated slope and y-intercept\n",
        "def predict_linear(x, slope, y_intercept):\n",
        "    y_pred = slope * x + y_intercept\n",
        "    return y_pred\n",
        "\n",
        "# example usage\n",
        "np.random.seed(0)\n",
        "x = np.random.rand(100, 1)\n",
        "y = 2 + 3 * x + np.random.randn(100, 1)\n",
        "\n",
        "slope, y_intercept = linear_regression(x, y)\n",
        "print('slope:', slope)\n",
        "print('y-intercept:', y_intercept)\n",
        "\n",
        "x_new = 6\n",
        "y_pred = predict_linear(x_new, slope, y_intercept)\n",
        "print('predicted value for x = {}:'.format(x_new), y_pred)"
      ]
    },
    {
      "cell_type": "markdown",
      "source": [
        "**polynomial regression**"
      ],
      "metadata": {
        "id": "yUl2cI352K5k"
      }
    },
    {
      "cell_type": "code",
      "source": [
        "import numpy as np\n",
        "\n",
        "# define a function to create a polynomial feature matrix\n",
        "def create_polynomial_features(x, degree):\n",
        "    x_poly = np.zeros((len(x), degree))\n",
        "    \n",
        "    for i in range(degree):\n",
        "        x_poly[:, i] = x ** (i+1)\n",
        "    \n",
        "    return x_poly\n",
        "\n",
        "# define a function to perform polynomial regression\n",
        "def polynomial_regression(x, y, degree):\n",
        "    x_poly = create_polynomial_features(x, degree)\n",
        "    model = np.linalg.lstsq(x_poly, y, rcond=None)[0]\n",
        "    \n",
        "    return model\n",
        "\n",
        "# define a function to make predictions using the polynomial model\n",
        "def predict_polynomial(x, model):\n",
        "    y_pred = np.zeros_like(x)\n",
        "    \n",
        "    for i in range(len(model)):\n",
        "        y_pred += model[i] * x ** (i+1)\n",
        "    \n",
        "    return y_pred\n",
        "\n",
        "# example usage\n",
        "x = np.array([1, 2, 3, 4, 5])\n",
        "y = np.array([2, 4, 5, 4, 5])\n",
        "degree = 2\n",
        "\n",
        "model = polynomial_regression(x, y, degree)\n",
        "print('polynomial coefficients:', model)\n",
        "\n",
        "x_new = np.array([6])\n",
        "x_new_poly = create_polynomial_features(x_new, degree)\n",
        "y_pred = predict_polynomial(x_new_poly, model)\n",
        "print('predicted value for x = {}:'.format(x_new[0]), y_pred[0])"
      ],
      "metadata": {
        "colab": {
          "base_uri": "https://localhost:8080/"
        },
        "id": "vXCxSmZb2I6w",
        "outputId": "7cf07175-bf25-4dde-f621-74aaefe4fea9"
      },
      "execution_count": 6,
      "outputs": [
        {
          "output_type": "stream",
          "name": "stdout",
          "text": [
            "polynomial coefficients: [ 2.45776398 -0.30745342]\n",
            "predicted value for x = 6: [   3.67826087 -309.98012422]\n"
          ]
        }
      ]
    },
    {
      "cell_type": "code",
      "source": [
        "degree = 3\n",
        "\n",
        "model = polynomial_regression(x, y, degree)\n",
        "print('polynomial coefficients:', model)\n",
        "\n",
        "x_new = np.array([6])\n",
        "x_new_poly = create_polynomial_features(x_new, degree)\n",
        "y_pred = predict_polynomial(x_new_poly, model)\n",
        "print('predicted value for x = {}:'.format(x_new[0]), y_pred[0])"
      ],
      "metadata": {
        "colab": {
          "base_uri": "https://localhost:8080/"
        },
        "id": "0L5TkMWi2P-h",
        "outputId": "c1262946-fd91-486c-d075-dad7da084036"
      },
      "execution_count": 7,
      "outputs": [
        {
          "output_type": "stream",
          "name": "stdout",
          "text": [
            "polynomial coefficients: [ 3.11786698 -0.71753247  0.05716253]\n",
            "predicted value for x = 6: [5.22314050e+00 1.84929634e+03 5.43262909e+05]\n"
          ]
        }
      ]
    },
    {
      "cell_type": "markdown",
      "source": [
        "**multiple linear regression**"
      ],
      "metadata": {
        "id": "G7LIlfGH2TJO"
      }
    },
    {
      "cell_type": "code",
      "source": [
        "import numpy as np\n",
        "\n",
        "# define a function to perform multiple linear regression\n",
        "def multiple_linear_regression(x, y):\n",
        "    X = np.column_stack((np.ones(len(x)), x)) # add a column of ones for the intercept term\n",
        "    model = np.linalg.lstsq(X, y, rcond=None)[0]\n",
        "    \n",
        "    return model\n",
        "\n",
        "# define a function to make predictions using the multiple linear regression model\n",
        "def predict_multiple(x, model):\n",
        "    X = np.column_stack((np.ones(len(x)), x))\n",
        "    y_pred = np.dot(X, model)\n",
        "    \n",
        "    return y_pred\n",
        "\n",
        "# example usage\n",
        "X = np.random.rand(100, 3)\n",
        "# Generate random output data\n",
        "y = 3*X[:,0] + 2*X[:,1] - 5*X[:,2] + np.random.randn(100)\n",
        "\n",
        "#x1 = np.array([1, 2, 3, 4, 5])\n",
        "#x2 = np.array([2, 4, 5, 4, 5])\n",
        "#y = np.array([5, 7, 8, 8, 10])\n",
        "\n",
        "#X = np.column_stack((x1, x2))\n",
        "model = multiple_linear_regression(X, y)\n",
        "print('intercept and coefficients:', model)\n",
        "\n",
        "X_new = np.random.rand(3, 3) # new values of x1, x2, and x3\n",
        "y_pred = predict_multiple(X_new, model)\n",
        "print('predicted values:', y_pred)"
      ],
      "metadata": {
        "colab": {
          "base_uri": "https://localhost:8080/"
        },
        "id": "mtIXDHJC2RyY",
        "outputId": "1fb7e11d-ca2e-42ee-b3ec-c347ef50b9e3"
      },
      "execution_count": 8,
      "outputs": [
        {
          "output_type": "stream",
          "name": "stdout",
          "text": [
            "intercept and coefficients: [-0.06159332  3.1732855   1.87162514 -4.88578983]\n",
            "predicted values: [-0.98930111 -1.49257078  2.70844934]\n"
          ]
        }
      ]
    },
    {
      "cell_type": "code",
      "source": [],
      "metadata": {
        "id": "aw5mfG9r2rje"
      },
      "execution_count": null,
      "outputs": []
    },
    {
      "cell_type": "code",
      "source": [
        "from sklearn.datasets import load_diabetes\n",
        "from sklearn.model_selection import train_test_split\n",
        "import numpy as np\n",
        "\n",
        "# load the diabetes dataset\n",
        "diabetes = load_diabetes()\n",
        "\n",
        "# split the dataset into training and testing sets\n",
        "X_train, X_test, y_train, y_test = train_test_split(diabetes.data, diabetes.target, test_size=0.2, random_state=42)\n",
        "\n",
        "\n",
        "\n",
        "# fit a simple linear regression model to the training data\n",
        "x_train = X_train[:, 2] # select one feature from the dataset\n",
        "y_train = y_train\n",
        "model = linear_regression(x_train, y_train)\n",
        "print('Simple linear regression model coefficients:', model)"
      ],
      "metadata": {
        "colab": {
          "base_uri": "https://localhost:8080/"
        },
        "id": "VIvRC8bf2WY8",
        "outputId": "8d430db4-03a5-4cf1-eecb-b869b160276e"
      },
      "execution_count": 9,
      "outputs": [
        {
          "output_type": "stream",
          "name": "stdout",
          "text": [
            "Simple linear regression model coefficients: (998.5776891375593, 152.00335421448167)\n"
          ]
        }
      ]
    },
    {
      "cell_type": "code",
      "source": [
        "# fit a polynomial regression model to the training data\n",
        "degree = 3\n",
        "x_train = X_train[:, 2] # select one feature from the dataset\n",
        "y_train = y_train\n",
        "model = polynomial_regression(x_train, y_train, degree)\n",
        "print('Polynomial regression model coefficients:', model)\n",
        "\n",
        "\n",
        "# fit a multiple linear regression model to the training data\n",
        "x_train = X_train[:, :3] # select multiple features from the dataset\n",
        "y_train = y_train\n",
        "model = multiple_linear_regression(x_train, y_train)\n",
        "print('Multiple linear regression model coefficients:', model)"
      ],
      "metadata": {
        "colab": {
          "base_uri": "https://localhost:8080/"
        },
        "id": "gbEVxNXS3F7r",
        "outputId": "0a490bd3-d7ec-4fef-8efb-7884a4c286ac"
      },
      "execution_count": 10,
      "outputs": [
        {
          "output_type": "stream",
          "name": "stdout",
          "text": [
            "Polynomial regression model coefficients: [   1309.67254392   36375.62709262 -199023.0438048 ]\n",
            "Multiple linear regression model coefficients: [151.833079   156.20183803 -47.06639118 971.91191127]\n"
          ]
        }
      ]
    },
    {
      "cell_type": "code",
      "source": [],
      "metadata": {
        "id": "TfM9vwqb3M4S"
      },
      "execution_count": null,
      "outputs": []
    }
  ]
}